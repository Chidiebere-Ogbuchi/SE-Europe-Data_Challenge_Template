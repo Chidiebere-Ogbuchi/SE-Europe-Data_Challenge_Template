{
 "cells": [
  {
   "cell_type": "code",
   "execution_count": 154,
   "metadata": {},
   "outputs": [],
   "source": [
    "import pandas as pd\n",
    "import numpy as np\n",
    "import matplotlib.pyplot as plt\n",
    "import seaborn as sns\n",
    "import matplotlib.dates as mdates\n"
   ]
  },
  {
   "cell_type": "code",
   "execution_count": 155,
   "metadata": {},
   "outputs": [
    {
     "data": {
      "text/html": [
       "<div>\n",
       "<style scoped>\n",
       "    .dataframe tbody tr th:only-of-type {\n",
       "        vertical-align: middle;\n",
       "    }\n",
       "\n",
       "    .dataframe tbody tr th {\n",
       "        vertical-align: top;\n",
       "    }\n",
       "\n",
       "    .dataframe thead th {\n",
       "        text-align: right;\n",
       "    }\n",
       "</style>\n",
       "<table border=\"1\" class=\"dataframe\">\n",
       "  <thead>\n",
       "    <tr style=\"text-align: right;\">\n",
       "      <th></th>\n",
       "      <th>Country</th>\n",
       "      <th>DataType</th>\n",
       "      <th>AreaID</th>\n",
       "      <th>StartTime</th>\n",
       "      <th>EndTime</th>\n",
       "      <th>PsrType</th>\n",
       "      <th>total</th>\n",
       "    </tr>\n",
       "  </thead>\n",
       "  <tbody>\n",
       "    <tr>\n",
       "      <th>0</th>\n",
       "      <td>DE</td>\n",
       "      <td>gen</td>\n",
       "      <td>10Y1001A1001A83F</td>\n",
       "      <td>2021-12-31 23:00:00</td>\n",
       "      <td>2022-01-01 00:00:00</td>\n",
       "      <td>B01</td>\n",
       "      <td>4333</td>\n",
       "    </tr>\n",
       "    <tr>\n",
       "      <th>1</th>\n",
       "      <td>DE</td>\n",
       "      <td>gen</td>\n",
       "      <td>10Y1001A1001A83F</td>\n",
       "      <td>2022-01-01 00:00:00</td>\n",
       "      <td>2022-01-01 00:15:00</td>\n",
       "      <td>B01</td>\n",
       "      <td>17295</td>\n",
       "    </tr>\n",
       "    <tr>\n",
       "      <th>2</th>\n",
       "      <td>DE</td>\n",
       "      <td>gen</td>\n",
       "      <td>10Y1001A1001A83F</td>\n",
       "      <td>2022-01-01 01:00:00</td>\n",
       "      <td>2022-01-01 01:15:00</td>\n",
       "      <td>B01</td>\n",
       "      <td>17322</td>\n",
       "    </tr>\n",
       "    <tr>\n",
       "      <th>3</th>\n",
       "      <td>DE</td>\n",
       "      <td>gen</td>\n",
       "      <td>10Y1001A1001A83F</td>\n",
       "      <td>2022-01-01 02:00:00</td>\n",
       "      <td>2022-01-01 02:15:00</td>\n",
       "      <td>B01</td>\n",
       "      <td>17343</td>\n",
       "    </tr>\n",
       "    <tr>\n",
       "      <th>4</th>\n",
       "      <td>DE</td>\n",
       "      <td>gen</td>\n",
       "      <td>10Y1001A1001A83F</td>\n",
       "      <td>2022-01-01 03:00:00</td>\n",
       "      <td>2022-01-01 03:15:00</td>\n",
       "      <td>B01</td>\n",
       "      <td>17354</td>\n",
       "    </tr>\n",
       "  </tbody>\n",
       "</table>\n",
       "</div>"
      ],
      "text/plain": [
       "  Country DataType            AreaID            StartTime  \\\n",
       "0      DE      gen  10Y1001A1001A83F  2021-12-31 23:00:00   \n",
       "1      DE      gen  10Y1001A1001A83F  2022-01-01 00:00:00   \n",
       "2      DE      gen  10Y1001A1001A83F  2022-01-01 01:00:00   \n",
       "3      DE      gen  10Y1001A1001A83F  2022-01-01 02:00:00   \n",
       "4      DE      gen  10Y1001A1001A83F  2022-01-01 03:00:00   \n",
       "\n",
       "               EndTime PsrType  total  \n",
       "0  2022-01-01 00:00:00     B01   4333  \n",
       "1  2022-01-01 00:15:00     B01  17295  \n",
       "2  2022-01-01 01:15:00     B01  17322  \n",
       "3  2022-01-01 02:15:00     B01  17343  \n",
       "4  2022-01-01 03:15:00     B01  17354  "
      ]
     },
     "execution_count": 155,
     "metadata": {},
     "output_type": "execute_result"
    }
   ],
   "source": [
    "data_dir = './agg_data/'\n",
    "df = pd.read_csv(f'{data_dir}aggregated_data.csv')\n",
    "df.head() "
   ]
  },
  {
   "cell_type": "markdown",
   "metadata": {},
   "source": [
    "Check missing values"
   ]
  },
  {
   "cell_type": "code",
   "execution_count": 156,
   "metadata": {},
   "outputs": [
    {
     "data": {
      "text/plain": [
       "(Country      0\n",
       " DataType     0\n",
       " AreaID       0\n",
       " StartTime    0\n",
       " EndTime      0\n",
       " PsrType      0\n",
       " total        0\n",
       " dtype: int64,\n",
       " 357782)"
      ]
     },
     "execution_count": 156,
     "metadata": {},
     "output_type": "execute_result"
    }
   ],
   "source": [
    "#count the total nans in each column and the total length of the data.\n",
    "df.isnull().sum(), len(df)"
   ]
  },
  {
   "cell_type": "markdown",
   "metadata": {},
   "source": [
    "Check the date types"
   ]
  },
  {
   "cell_type": "code",
   "execution_count": 157,
   "metadata": {},
   "outputs": [
    {
     "data": {
      "text/plain": [
       "dtype('O')"
      ]
     },
     "execution_count": 157,
     "metadata": {},
     "output_type": "execute_result"
    }
   ],
   "source": [
    "df['StartTime'].dtypes"
   ]
  },
  {
   "cell_type": "code",
   "execution_count": 158,
   "metadata": {},
   "outputs": [],
   "source": [
    "df['StartTime'] = pd.to_datetime(df['StartTime'])\n",
    "df['EndTime'] = pd.to_datetime(df['EndTime'])"
   ]
  },
  {
   "cell_type": "markdown",
   "metadata": {},
   "source": [
    "Check again the types"
   ]
  },
  {
   "cell_type": "code",
   "execution_count": 159,
   "metadata": {},
   "outputs": [
    {
     "data": {
      "text/plain": [
       "dtype('<M8[ns]')"
      ]
     },
     "execution_count": 159,
     "metadata": {},
     "output_type": "execute_result"
    }
   ],
   "source": [
    "df['StartTime'].dtypes\n",
    "df['EndTime'].dtypes"
   ]
  },
  {
   "cell_type": "code",
   "execution_count": 160,
   "metadata": {},
   "outputs": [
    {
     "data": {
      "text/plain": [
       "array(['gen', 'load'], dtype=object)"
      ]
     },
     "execution_count": 160,
     "metadata": {},
     "output_type": "execute_result"
    }
   ],
   "source": [
    "df['DataType'].unique()"
   ]
  },
  {
   "cell_type": "markdown",
   "metadata": {},
   "source": [
    "Let's transform the DataType to binary column"
   ]
  },
  {
   "cell_type": "code",
   "execution_count": 161,
   "metadata": {},
   "outputs": [],
   "source": [
    "df['isLoad'] = df['DataType'].apply(lambda x: 0 if x == 'gen' else 1)\n"
   ]
  },
  {
   "cell_type": "markdown",
   "metadata": {},
   "source": [
    "Check the areas value range"
   ]
  },
  {
   "cell_type": "code",
   "execution_count": 162,
   "metadata": {},
   "outputs": [
    {
     "data": {
      "text/plain": [
       "Country  AreaID          \n",
       "DE       10Y1001A1001A83F    56905\n",
       "DK       10Y1001A1001A65H    27475\n",
       "HU       10YHU-MAVIR----U    51310\n",
       "IT       10YIT-GRTN-----B    48692\n",
       "NE       10YNL----------L    33175\n",
       "PO       10YPL-AREA-----S    40416\n",
       "SE       10YSE-1--------K    21209\n",
       "SP       10YES-REE------0    68946\n",
       "UK       10Y1001A1001A92E     9654\n",
       "dtype: int64"
      ]
     },
     "execution_count": 162,
     "metadata": {},
     "output_type": "execute_result"
    }
   ],
   "source": [
    "df.groupby(['Country', 'AreaID']).size()"
   ]
  },
  {
   "cell_type": "markdown",
   "metadata": {},
   "source": [
    "Since the Areas are reflective of their country we can safely delete this field"
   ]
  },
  {
   "cell_type": "code",
   "execution_count": 163,
   "metadata": {},
   "outputs": [],
   "source": [
    "df = df.drop('AreaID', axis=1)\n",
    "# df = df.drop('DataType', axis=1)"
   ]
  },
  {
   "cell_type": "code",
   "execution_count": null,
   "metadata": {},
   "outputs": [],
   "source": [
    "df['country'] = df['country'].replace('NE', 'NL')"
   ]
  },
  {
   "cell_type": "code",
   "execution_count": 164,
   "metadata": {},
   "outputs": [],
   "source": [
    "df.to_csv('./processed_data/processed_data.csv', index=False)"
   ]
  },
  {
   "cell_type": "code",
   "execution_count": 133,
   "metadata": {},
   "outputs": [
    {
     "data": {
      "text/html": [
       "<div>\n",
       "<style scoped>\n",
       "    .dataframe tbody tr th:only-of-type {\n",
       "        vertical-align: middle;\n",
       "    }\n",
       "\n",
       "    .dataframe tbody tr th {\n",
       "        vertical-align: top;\n",
       "    }\n",
       "\n",
       "    .dataframe thead th {\n",
       "        text-align: right;\n",
       "    }\n",
       "</style>\n",
       "<table border=\"1\" class=\"dataframe\">\n",
       "  <thead>\n",
       "    <tr style=\"text-align: right;\">\n",
       "      <th></th>\n",
       "      <th>Country</th>\n",
       "      <th>StartTime</th>\n",
       "      <th>EndTime</th>\n",
       "      <th>PsrType</th>\n",
       "      <th>total</th>\n",
       "      <th>isLoad</th>\n",
       "    </tr>\n",
       "  </thead>\n",
       "  <tbody>\n",
       "    <tr>\n",
       "      <th>0</th>\n",
       "      <td>DE</td>\n",
       "      <td>2021-12-31 23:00:00</td>\n",
       "      <td>2022-01-01 00:00:00</td>\n",
       "      <td>B01</td>\n",
       "      <td>4333</td>\n",
       "      <td>0</td>\n",
       "    </tr>\n",
       "    <tr>\n",
       "      <th>1</th>\n",
       "      <td>DE</td>\n",
       "      <td>2022-01-01 00:00:00</td>\n",
       "      <td>2022-01-01 00:15:00</td>\n",
       "      <td>B01</td>\n",
       "      <td>17295</td>\n",
       "      <td>0</td>\n",
       "    </tr>\n",
       "    <tr>\n",
       "      <th>2</th>\n",
       "      <td>DE</td>\n",
       "      <td>2022-01-01 01:00:00</td>\n",
       "      <td>2022-01-01 01:15:00</td>\n",
       "      <td>B01</td>\n",
       "      <td>17322</td>\n",
       "      <td>0</td>\n",
       "    </tr>\n",
       "    <tr>\n",
       "      <th>3</th>\n",
       "      <td>DE</td>\n",
       "      <td>2022-01-01 02:00:00</td>\n",
       "      <td>2022-01-01 02:15:00</td>\n",
       "      <td>B01</td>\n",
       "      <td>17343</td>\n",
       "      <td>0</td>\n",
       "    </tr>\n",
       "    <tr>\n",
       "      <th>4</th>\n",
       "      <td>DE</td>\n",
       "      <td>2022-01-01 03:00:00</td>\n",
       "      <td>2022-01-01 03:15:00</td>\n",
       "      <td>B01</td>\n",
       "      <td>17354</td>\n",
       "      <td>0</td>\n",
       "    </tr>\n",
       "  </tbody>\n",
       "</table>\n",
       "</div>"
      ],
      "text/plain": [
       "  Country           StartTime             EndTime PsrType  total  isLoad\n",
       "0      DE 2021-12-31 23:00:00 2022-01-01 00:00:00     B01   4333       0\n",
       "1      DE 2022-01-01 00:00:00 2022-01-01 00:15:00     B01  17295       0\n",
       "2      DE 2022-01-01 01:00:00 2022-01-01 01:15:00     B01  17322       0\n",
       "3      DE 2022-01-01 02:00:00 2022-01-01 02:15:00     B01  17343       0\n",
       "4      DE 2022-01-01 03:00:00 2022-01-01 03:15:00     B01  17354       0"
      ]
     },
     "execution_count": 133,
     "metadata": {},
     "output_type": "execute_result"
    }
   ],
   "source": [
    "df.head()"
   ]
  },
  {
   "cell_type": "code",
   "execution_count": 134,
   "metadata": {},
   "outputs": [
    {
     "data": {
      "text/plain": [
       "array(['B01', 'B02', 'B04', 'B05', 'B06', 'B09', 'B10', 'B11', 'B12',\n",
       "       'B14', 'B15', 'B16', 'B17', 'B18', 'B19', 'B20', 'LOAD', 'B03',\n",
       "       'B13', 'B07', 'B08'], dtype=object)"
      ]
     },
     "execution_count": 134,
     "metadata": {},
     "output_type": "execute_result"
    }
   ],
   "source": [
    "df['PsrType'].unique()"
   ]
  },
  {
   "cell_type": "markdown",
   "metadata": {},
   "source": [
    "Let assess load and gen data individually"
   ]
  },
  {
   "cell_type": "code",
   "execution_count": 135,
   "metadata": {},
   "outputs": [],
   "source": [
    "# Split the DataFrame into two based on 'isLoad' column\n",
    "df_load = df[df['isLoad'] == 1]\n",
    "df_gen = df[df['isLoad'] == 0]"
   ]
  },
  {
   "cell_type": "markdown",
   "metadata": {},
   "source": [
    "Lets plot the distribution of Columns one by one"
   ]
  },
  {
   "cell_type": "code",
   "execution_count": 136,
   "metadata": {},
   "outputs": [
    {
     "data": {
      "image/png": "[encoded data removed]",
      "text/plain": [
       "<Figure size 600x400 with 1 Axes>"
      ]
     },
     "metadata": {},
     "output_type": "display_data"
    }
   ],
   "source": [
    "# Get the value counts of the 'PsrType' column\n",
    "value_counts = df_gen['PsrType'].value_counts()\n",
    "\n",
    "# Create a bar plot of the value counts\n",
    "plt.figure(figsize=(6, 4))\n",
    "sns.barplot(x=value_counts.index, y=value_counts.values, palette=\"viridis\")\n",
    "\n",
    "# Add labels and title\n",
    "plt.xlabel('PsrType')\n",
    "plt.ylabel('Count')\n",
    "plt.title('Value Distribution of PsrType Column')\n",
    "\n",
    "# Rotate x-axis labels for better visibility\n",
    "plt.xticks(rotation=90)\n",
    "\n",
    "# Show the plot\n",
    "plt.show()"
   ]
  },
  {
   "cell_type": "markdown",
   "metadata": {},
   "source": [
    "## Generation of Energy by Country"
   ]
  },
  {
   "cell_type": "code",
   "execution_count": 137,
   "metadata": {},
   "outputs": [
    {
     "data": {
      "image/png": "[encoded data removed]",
      "text/plain": [
       "<Figure size 600x400 with 1 Axes>"
      ]
     },
     "metadata": {},
     "output_type": "display_data"
    }
   ],
   "source": [
    "# Get the value counts of the 'Country' column\n",
    "value_counts = df_gen['Country'].value_counts()\n",
    "\n",
    "# Create a bar plot of the value counts\n",
    "plt.figure(figsize=(6, 4))\n",
    "sns.barplot(x=value_counts.index, y=value_counts.values, palette=\"viridis\")\n",
    "\n",
    "# Add labels and title\n",
    "plt.xlabel('Country')\n",
    "plt.ylabel('Count')\n",
    "plt.title('Value Distribution of Country Column')\n",
    "\n",
    "\n",
    "# Show the plot\n",
    "plt.show()"
   ]
  },
  {
   "cell_type": "markdown",
   "metadata": {},
   "source": [
    "## Consumption of Energy by countries"
   ]
  },
  {
   "cell_type": "code",
   "execution_count": 138,
   "metadata": {},
   "outputs": [
    {
     "data": {
      "image/png": "[encoded data removed]",
      "text/plain": [
       "<Figure size 600x400 with 1 Axes>"
      ]
     },
     "metadata": {},
     "output_type": "display_data"
    }
   ],
   "source": [
    "# Get the value counts of the 'Country' column\n",
    "value_counts = df_load['Country'].value_counts()\n",
    "\n",
    "# Create a bar plot of the value counts\n",
    "plt.figure(figsize=(6, 4))\n",
    "sns.barplot(x=value_counts.index, y=value_counts.values, palette=\"viridis\")\n",
    "\n",
    "# Add labels and title\n",
    "plt.xlabel('Country')\n",
    "plt.ylabel('Count')\n",
    "plt.title('Value Distribution of Country Column')\n",
    "\n",
    "\n",
    "# Show the plot\n",
    "plt.show()"
   ]
  },
  {
   "cell_type": "code",
   "execution_count": 139,
   "metadata": {},
   "outputs": [
    {
     "data": {
      "text/html": [
       "<div>\n",
       "<style scoped>\n",
       "    .dataframe tbody tr th:only-of-type {\n",
       "        vertical-align: middle;\n",
       "    }\n",
       "\n",
       "    .dataframe tbody tr th {\n",
       "        vertical-align: top;\n",
       "    }\n",
       "\n",
       "    .dataframe thead th {\n",
       "        text-align: right;\n",
       "    }\n",
       "</style>\n",
       "<table border=\"1\" class=\"dataframe\">\n",
       "  <thead>\n",
       "    <tr style=\"text-align: right;\">\n",
       "      <th></th>\n",
       "      <th>Country</th>\n",
       "      <th>StartTime</th>\n",
       "      <th>EndTime</th>\n",
       "      <th>PsrType</th>\n",
       "      <th>total</th>\n",
       "      <th>isLoad</th>\n",
       "    </tr>\n",
       "  </thead>\n",
       "  <tbody>\n",
       "    <tr>\n",
       "      <th>0</th>\n",
       "      <td>DE</td>\n",
       "      <td>2021-12-31 23:00:00</td>\n",
       "      <td>2022-01-01 00:00:00</td>\n",
       "      <td>B01</td>\n",
       "      <td>4333</td>\n",
       "      <td>0</td>\n",
       "    </tr>\n",
       "    <tr>\n",
       "      <th>1</th>\n",
       "      <td>DE</td>\n",
       "      <td>2022-01-01 00:00:00</td>\n",
       "      <td>2022-01-01 00:15:00</td>\n",
       "      <td>B01</td>\n",
       "      <td>17295</td>\n",
       "      <td>0</td>\n",
       "    </tr>\n",
       "    <tr>\n",
       "      <th>2</th>\n",
       "      <td>DE</td>\n",
       "      <td>2022-01-01 01:00:00</td>\n",
       "      <td>2022-01-01 01:15:00</td>\n",
       "      <td>B01</td>\n",
       "      <td>17322</td>\n",
       "      <td>0</td>\n",
       "    </tr>\n",
       "    <tr>\n",
       "      <th>3</th>\n",
       "      <td>DE</td>\n",
       "      <td>2022-01-01 02:00:00</td>\n",
       "      <td>2022-01-01 02:15:00</td>\n",
       "      <td>B01</td>\n",
       "      <td>17343</td>\n",
       "      <td>0</td>\n",
       "    </tr>\n",
       "    <tr>\n",
       "      <th>4</th>\n",
       "      <td>DE</td>\n",
       "      <td>2022-01-01 03:00:00</td>\n",
       "      <td>2022-01-01 03:15:00</td>\n",
       "      <td>B01</td>\n",
       "      <td>17354</td>\n",
       "      <td>0</td>\n",
       "    </tr>\n",
       "  </tbody>\n",
       "</table>\n",
       "</div>"
      ],
      "text/plain": [
       "  Country           StartTime             EndTime PsrType  total  isLoad\n",
       "0      DE 2021-12-31 23:00:00 2022-01-01 00:00:00     B01   4333       0\n",
       "1      DE 2022-01-01 00:00:00 2022-01-01 00:15:00     B01  17295       0\n",
       "2      DE 2022-01-01 01:00:00 2022-01-01 01:15:00     B01  17322       0\n",
       "3      DE 2022-01-01 02:00:00 2022-01-01 02:15:00     B01  17343       0\n",
       "4      DE 2022-01-01 03:00:00 2022-01-01 03:15:00     B01  17354       0"
      ]
     },
     "execution_count": 139,
     "metadata": {},
     "output_type": "execute_result"
    }
   ],
   "source": [
    "df.head()"
   ]
  },
  {
   "cell_type": "code",
   "execution_count": 151,
   "metadata": {},
   "outputs": [
    {
     "name": "stdout",
     "output_type": "stream",
     "text": [
      "24\n"
     ]
    },
    {
     "data": {
      "text/html": [
       "<div>\n",
       "<style scoped>\n",
       "    .dataframe tbody tr th:only-of-type {\n",
       "        vertical-align: middle;\n",
       "    }\n",
       "\n",
       "    .dataframe tbody tr th {\n",
       "        vertical-align: top;\n",
       "    }\n",
       "\n",
       "    .dataframe thead th {\n",
       "        text-align: right;\n",
       "    }\n",
       "</style>\n",
       "<table border=\"1\" class=\"dataframe\">\n",
       "  <thead>\n",
       "    <tr style=\"text-align: right;\">\n",
       "      <th></th>\n",
       "      <th>Country</th>\n",
       "      <th>StartTime</th>\n",
       "      <th>EndTime</th>\n",
       "      <th>PsrType</th>\n",
       "      <th>total</th>\n",
       "      <th>isLoad</th>\n",
       "    </tr>\n",
       "  </thead>\n",
       "  <tbody>\n",
       "    <tr>\n",
       "      <th>124052</th>\n",
       "      <td>NE</td>\n",
       "      <td>2022-01-13 00:00:00</td>\n",
       "      <td>2022-01-13 00:15:00</td>\n",
       "      <td>B01</td>\n",
       "      <td>41</td>\n",
       "      <td>0</td>\n",
       "    </tr>\n",
       "    <tr>\n",
       "      <th>124053</th>\n",
       "      <td>NE</td>\n",
       "      <td>2022-01-13 01:00:00</td>\n",
       "      <td>2022-01-13 01:15:00</td>\n",
       "      <td>B01</td>\n",
       "      <td>42</td>\n",
       "      <td>0</td>\n",
       "    </tr>\n",
       "    <tr>\n",
       "      <th>124054</th>\n",
       "      <td>NE</td>\n",
       "      <td>2022-01-13 02:00:00</td>\n",
       "      <td>2022-01-13 02:15:00</td>\n",
       "      <td>B01</td>\n",
       "      <td>40</td>\n",
       "      <td>0</td>\n",
       "    </tr>\n",
       "    <tr>\n",
       "      <th>124055</th>\n",
       "      <td>NE</td>\n",
       "      <td>2022-01-13 03:00:00</td>\n",
       "      <td>2022-01-13 03:15:00</td>\n",
       "      <td>B01</td>\n",
       "      <td>42</td>\n",
       "      <td>0</td>\n",
       "    </tr>\n",
       "    <tr>\n",
       "      <th>124056</th>\n",
       "      <td>NE</td>\n",
       "      <td>2022-01-13 04:00:00</td>\n",
       "      <td>2022-01-13 04:15:00</td>\n",
       "      <td>B01</td>\n",
       "      <td>44</td>\n",
       "      <td>0</td>\n",
       "    </tr>\n",
       "    <tr>\n",
       "      <th>124057</th>\n",
       "      <td>NE</td>\n",
       "      <td>2022-01-13 05:00:00</td>\n",
       "      <td>2022-01-13 05:15:00</td>\n",
       "      <td>B01</td>\n",
       "      <td>43</td>\n",
       "      <td>0</td>\n",
       "    </tr>\n",
       "    <tr>\n",
       "      <th>124058</th>\n",
       "      <td>NE</td>\n",
       "      <td>2022-01-13 06:00:00</td>\n",
       "      <td>2022-01-13 06:15:00</td>\n",
       "      <td>B01</td>\n",
       "      <td>43</td>\n",
       "      <td>0</td>\n",
       "    </tr>\n",
       "    <tr>\n",
       "      <th>124059</th>\n",
       "      <td>NE</td>\n",
       "      <td>2022-01-13 07:00:00</td>\n",
       "      <td>2022-01-13 07:15:00</td>\n",
       "      <td>B01</td>\n",
       "      <td>43</td>\n",
       "      <td>0</td>\n",
       "    </tr>\n",
       "    <tr>\n",
       "      <th>124060</th>\n",
       "      <td>NE</td>\n",
       "      <td>2022-01-13 08:00:00</td>\n",
       "      <td>2022-01-13 08:15:00</td>\n",
       "      <td>B01</td>\n",
       "      <td>41</td>\n",
       "      <td>0</td>\n",
       "    </tr>\n",
       "    <tr>\n",
       "      <th>124061</th>\n",
       "      <td>NE</td>\n",
       "      <td>2022-01-13 09:00:00</td>\n",
       "      <td>2022-01-13 09:15:00</td>\n",
       "      <td>B01</td>\n",
       "      <td>41</td>\n",
       "      <td>0</td>\n",
       "    </tr>\n",
       "    <tr>\n",
       "      <th>124062</th>\n",
       "      <td>NE</td>\n",
       "      <td>2022-01-13 10:00:00</td>\n",
       "      <td>2022-01-13 10:15:00</td>\n",
       "      <td>B01</td>\n",
       "      <td>44</td>\n",
       "      <td>0</td>\n",
       "    </tr>\n",
       "    <tr>\n",
       "      <th>124063</th>\n",
       "      <td>NE</td>\n",
       "      <td>2022-01-13 11:00:00</td>\n",
       "      <td>2022-01-13 11:15:00</td>\n",
       "      <td>B01</td>\n",
       "      <td>43</td>\n",
       "      <td>0</td>\n",
       "    </tr>\n",
       "    <tr>\n",
       "      <th>124064</th>\n",
       "      <td>NE</td>\n",
       "      <td>2022-01-13 12:00:00</td>\n",
       "      <td>2022-01-13 12:15:00</td>\n",
       "      <td>B01</td>\n",
       "      <td>44</td>\n",
       "      <td>0</td>\n",
       "    </tr>\n",
       "    <tr>\n",
       "      <th>124065</th>\n",
       "      <td>NE</td>\n",
       "      <td>2022-01-13 13:00:00</td>\n",
       "      <td>2022-01-13 13:15:00</td>\n",
       "      <td>B01</td>\n",
       "      <td>44</td>\n",
       "      <td>0</td>\n",
       "    </tr>\n",
       "    <tr>\n",
       "      <th>124066</th>\n",
       "      <td>NE</td>\n",
       "      <td>2022-01-13 14:00:00</td>\n",
       "      <td>2022-01-13 14:15:00</td>\n",
       "      <td>B01</td>\n",
       "      <td>40</td>\n",
       "      <td>0</td>\n",
       "    </tr>\n",
       "    <tr>\n",
       "      <th>124067</th>\n",
       "      <td>NE</td>\n",
       "      <td>2022-01-13 15:00:00</td>\n",
       "      <td>2022-01-13 15:15:00</td>\n",
       "      <td>B01</td>\n",
       "      <td>40</td>\n",
       "      <td>0</td>\n",
       "    </tr>\n",
       "    <tr>\n",
       "      <th>124068</th>\n",
       "      <td>NE</td>\n",
       "      <td>2022-01-13 16:00:00</td>\n",
       "      <td>2022-01-13 16:15:00</td>\n",
       "      <td>B01</td>\n",
       "      <td>43</td>\n",
       "      <td>0</td>\n",
       "    </tr>\n",
       "    <tr>\n",
       "      <th>124069</th>\n",
       "      <td>NE</td>\n",
       "      <td>2022-01-13 17:00:00</td>\n",
       "      <td>2022-01-13 17:15:00</td>\n",
       "      <td>B01</td>\n",
       "      <td>44</td>\n",
       "      <td>0</td>\n",
       "    </tr>\n",
       "    <tr>\n",
       "      <th>124070</th>\n",
       "      <td>NE</td>\n",
       "      <td>2022-01-13 18:00:00</td>\n",
       "      <td>2022-01-13 18:15:00</td>\n",
       "      <td>B01</td>\n",
       "      <td>44</td>\n",
       "      <td>0</td>\n",
       "    </tr>\n",
       "    <tr>\n",
       "      <th>124071</th>\n",
       "      <td>NE</td>\n",
       "      <td>2022-01-13 19:00:00</td>\n",
       "      <td>2022-01-13 19:15:00</td>\n",
       "      <td>B01</td>\n",
       "      <td>44</td>\n",
       "      <td>0</td>\n",
       "    </tr>\n",
       "    <tr>\n",
       "      <th>124072</th>\n",
       "      <td>NE</td>\n",
       "      <td>2022-01-13 20:00:00</td>\n",
       "      <td>2022-01-13 20:15:00</td>\n",
       "      <td>B01</td>\n",
       "      <td>44</td>\n",
       "      <td>0</td>\n",
       "    </tr>\n",
       "    <tr>\n",
       "      <th>124073</th>\n",
       "      <td>NE</td>\n",
       "      <td>2022-01-13 21:00:00</td>\n",
       "      <td>2022-01-13 21:15:00</td>\n",
       "      <td>B01</td>\n",
       "      <td>43</td>\n",
       "      <td>0</td>\n",
       "    </tr>\n",
       "    <tr>\n",
       "      <th>124074</th>\n",
       "      <td>NE</td>\n",
       "      <td>2022-01-13 22:00:00</td>\n",
       "      <td>2022-01-13 22:15:00</td>\n",
       "      <td>B01</td>\n",
       "      <td>44</td>\n",
       "      <td>0</td>\n",
       "    </tr>\n",
       "    <tr>\n",
       "      <th>124075</th>\n",
       "      <td>NE</td>\n",
       "      <td>2022-01-13 23:00:00</td>\n",
       "      <td>2022-01-13 23:15:00</td>\n",
       "      <td>B01</td>\n",
       "      <td>44</td>\n",
       "      <td>0</td>\n",
       "    </tr>\n",
       "  </tbody>\n",
       "</table>\n",
       "</div>"
      ],
      "text/plain": [
       "       Country           StartTime             EndTime PsrType  total  isLoad\n",
       "124052      NE 2022-01-13 00:00:00 2022-01-13 00:15:00     B01     41       0\n",
       "124053      NE 2022-01-13 01:00:00 2022-01-13 01:15:00     B01     42       0\n",
       "124054      NE 2022-01-13 02:00:00 2022-01-13 02:15:00     B01     40       0\n",
       "124055      NE 2022-01-13 03:00:00 2022-01-13 03:15:00     B01     42       0\n",
       "124056      NE 2022-01-13 04:00:00 2022-01-13 04:15:00     B01     44       0\n",
       "124057      NE 2022-01-13 05:00:00 2022-01-13 05:15:00     B01     43       0\n",
       "124058      NE 2022-01-13 06:00:00 2022-01-13 06:15:00     B01     43       0\n",
       "124059      NE 2022-01-13 07:00:00 2022-01-13 07:15:00     B01     43       0\n",
       "124060      NE 2022-01-13 08:00:00 2022-01-13 08:15:00     B01     41       0\n",
       "124061      NE 2022-01-13 09:00:00 2022-01-13 09:15:00     B01     41       0\n",
       "124062      NE 2022-01-13 10:00:00 2022-01-13 10:15:00     B01     44       0\n",
       "124063      NE 2022-01-13 11:00:00 2022-01-13 11:15:00     B01     43       0\n",
       "124064      NE 2022-01-13 12:00:00 2022-01-13 12:15:00     B01     44       0\n",
       "124065      NE 2022-01-13 13:00:00 2022-01-13 13:15:00     B01     44       0\n",
       "124066      NE 2022-01-13 14:00:00 2022-01-13 14:15:00     B01     40       0\n",
       "124067      NE 2022-01-13 15:00:00 2022-01-13 15:15:00     B01     40       0\n",
       "124068      NE 2022-01-13 16:00:00 2022-01-13 16:15:00     B01     43       0\n",
       "124069      NE 2022-01-13 17:00:00 2022-01-13 17:15:00     B01     44       0\n",
       "124070      NE 2022-01-13 18:00:00 2022-01-13 18:15:00     B01     44       0\n",
       "124071      NE 2022-01-13 19:00:00 2022-01-13 19:15:00     B01     44       0\n",
       "124072      NE 2022-01-13 20:00:00 2022-01-13 20:15:00     B01     44       0\n",
       "124073      NE 2022-01-13 21:00:00 2022-01-13 21:15:00     B01     43       0\n",
       "124074      NE 2022-01-13 22:00:00 2022-01-13 22:15:00     B01     44       0\n",
       "124075      NE 2022-01-13 23:00:00 2022-01-13 23:15:00     B01     44       0"
      ]
     },
     "execution_count": 151,
     "metadata": {},
     "output_type": "execute_result"
    }
   ],
   "source": [
    "date = pd.to_datetime('2022-01-13')  # replace with your date\n",
    "filtered_df = df_gen[(df_gen['StartTime'].dt.date == date.date()) & (df_gen['Country'] == 'NE') & (df_gen['PsrType'] == 'B01')]\n",
    "print(len(filtered_df))\n",
    "filtered_df"
   ]
  },
  {
   "cell_type": "code",
   "execution_count": 144,
   "metadata": {},
   "outputs": [
    {
     "data": {
      "text/plain": [
       "2021-12-31 23:00:00    7\n",
       "2022-03-05 16:00:00    7\n",
       "2022-03-06 12:00:00    7\n",
       "2022-03-06 13:00:00    7\n",
       "2022-03-06 14:00:00    7\n",
       "                      ..\n",
       "2022-04-14 03:00:00    1\n",
       "2022-04-14 02:00:00    1\n",
       "2022-04-14 01:00:00    1\n",
       "2022-04-14 00:00:00    1\n",
       "2022-04-16 23:00:00    1\n",
       "Name: StartTime, Length: 2570, dtype: int64"
      ]
     },
     "execution_count": 144,
     "metadata": {},
     "output_type": "execute_result"
    }
   ],
   "source": [
    "df_gen[df_gen['PsrType'] == 'B01'].StartTime.value_counts()"
   ]
  },
  {
   "cell_type": "code",
   "execution_count": 153,
   "metadata": {},
   "outputs": [
    {
     "name": "stderr",
     "output_type": "stream",
     "text": [
      "C:\\Users\\Mirwi\\AppData\\Local\\Packages\\PythonSoftwareFoundation.Python.3.9_qbz5n2kfra8p0\\LocalCache\\local-packages\\Python39\\site-packages\\seaborn\\axisgrid.py:712: UserWarning: Using the barplot function without specifying `order` is likely to produce an incorrect plot.\n",
      "  warnings.warn(warning)\n"
     ]
    },
    {
     "data": {
      "image/png": "[encoded data removed]",
      "text/plain": [
       "<Figure size 1600x1200 with 9 Axes>"
      ]
     },
     "metadata": {},
     "output_type": "display_data"
    }
   ],
   "source": [
    "# Create a FacetGrid object\n",
    "g = sns.FacetGrid(df_gen, col=\"Country\", col_wrap=4, height=4, aspect=1)\n",
    "\n",
    "# Map a bar plot to each facet\n",
    "g.map(sns.barplot, \"PsrType\", \"total\")\n",
    "\n",
    "# Add a title to each facet\n",
    "g.set_titles(\"{col_name}\")\n",
    "\n",
    "# Show the plot\n",
    "plt.show()"
   ]
  }
 ],
 "metadata": {
  "kernelspec": {
   "display_name": "Python 3",
   "language": "python",
   "name": "python3"
  },
  "language_info": {
   "codemirror_mode": {
    "name": "ipython",
    "version": 3
   },
   "file_extension": ".py",
   "mimetype": "text/x-python",
   "name": "python",
   "nbconvert_exporter": "python",
   "pygments_lexer": "ipython3",
   "version": "3.9.13"
  }
 },
 "nbformat": 4,
 "nbformat_minor": 2
}
